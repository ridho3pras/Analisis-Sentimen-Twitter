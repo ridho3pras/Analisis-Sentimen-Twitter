{
 "cells": [
  {
   "cell_type": "code",
   "execution_count": 1,
   "metadata": {
    "id": "F8Unmz146PIq"
   },
   "outputs": [],
   "source": [
    "import pandas as pd\n",
    "import random"
   ]
  },
  {
   "cell_type": "markdown",
   "metadata": {
    "id": "AzJWs_uvPdkv"
   },
   "source": [
    "## Menggabung Dataset Yang Telah Dikumpulkan"
   ]
  },
  {
   "cell_type": "code",
   "execution_count": 5,
   "metadata": {
    "id": "0b922C7J6YSn"
   },
   "outputs": [],
   "source": [
    "data1 = pd.read_csv('dataset/dataset 2022/sekolah offline-29mei2022.csv')\n",
    "data2 = pd.read_csv('dataset/dataset 2022/sekolah tatap muka-30mei2022.csv')\n",
    "data3 = pd.read_csv('dataset/dataset 2022/sekolah offline-6juni2022.csv')\n",
    "data4 = pd.read_csv('dataset/dataset 2022/sekolah tatap muka-6juni2022.csv')\n",
    "data5 = pd.read_csv('dataset/dataset 2022/sekolah offline-13juni2022.csv')\n",
    "data6 = pd.read_csv('dataset/dataset 2022/sekolah tatap muka-13juni2022.csv')"
   ]
  },
  {
   "cell_type": "code",
   "execution_count": 6,
   "metadata": {
    "id": "o_ZRof4B6b_3"
   },
   "outputs": [],
   "source": [
    "frames = [data1, data2, data3, data4, data5, data6] \n",
    "result = pd.concat(frames).drop_duplicates().reset_index(drop=True)"
   ]
  },
  {
   "cell_type": "code",
   "execution_count": 7,
   "metadata": {
    "id": "y4XZtY6Y6d__"
   },
   "outputs": [],
   "source": [
    "result.to_csv(r'dataset/Dataset-lengkap.csv', index=False)"
   ]
  },
  {
   "cell_type": "code",
   "execution_count": 8,
   "metadata": {
    "id": "dr1WnHAO8zV3"
   },
   "outputs": [],
   "source": [
    "dataLengkap = pd.read_csv('dataset/Dataset-lengkap.csv')"
   ]
  },
  {
   "cell_type": "code",
   "execution_count": 9,
   "metadata": {
    "colab": {
     "base_uri": "https://localhost:8080/",
     "height": 424
    },
    "id": "bwjtfUht984f",
    "outputId": "733e82ad-12fc-40c6-cd93-c3d253bda656"
   },
   "outputs": [
    {
     "data": {
      "text/html": [
       "<div>\n",
       "<style scoped>\n",
       "    .dataframe tbody tr th:only-of-type {\n",
       "        vertical-align: middle;\n",
       "    }\n",
       "\n",
       "    .dataframe tbody tr th {\n",
       "        vertical-align: top;\n",
       "    }\n",
       "\n",
       "    .dataframe thead th {\n",
       "        text-align: right;\n",
       "    }\n",
       "</style>\n",
       "<table border=\"1\" class=\"dataframe\">\n",
       "  <thead>\n",
       "    <tr style=\"text-align: right;\">\n",
       "      <th></th>\n",
       "      <th>username</th>\n",
       "      <th>tweetcreatedts</th>\n",
       "      <th>tweet</th>\n",
       "    </tr>\n",
       "  </thead>\n",
       "  <tbody>\n",
       "    <tr>\n",
       "      <th>0</th>\n",
       "      <td>cemilih</td>\n",
       "      <td>2022-05-28 19:38:20</td>\n",
       "      <td>kalo udah mulai normal lagi, udah pada sekolah...</td>\n",
       "    </tr>\n",
       "    <tr>\n",
       "      <th>1</th>\n",
       "      <td>JUNGJIES</td>\n",
       "      <td>2022-05-28 17:46:37</td>\n",
       "      <td>pdhl brg2 jg glama pas msh offline, tau2 sekol...</td>\n",
       "    </tr>\n",
       "    <tr>\n",
       "      <th>2</th>\n",
       "      <td>collegemenfess</td>\n",
       "      <td>2022-05-28 16:51:24</td>\n",
       "      <td>[cm] kalo sidang offline berkas² pas penelitia...</td>\n",
       "    </tr>\n",
       "    <tr>\n",
       "      <th>3</th>\n",
       "      <td>lykygsgf</td>\n",
       "      <td>2022-05-28 16:19:47</td>\n",
       "      <td>@subschfess campur². ada senengnya, cnth kl ke...</td>\n",
       "    </tr>\n",
       "    <tr>\n",
       "      <th>4</th>\n",
       "      <td>achteezers</td>\n",
       "      <td>2022-05-28 16:06:04</td>\n",
       "      <td>gue dulu pacaran uwunya masih era offline nder...</td>\n",
       "    </tr>\n",
       "    <tr>\n",
       "      <th>...</th>\n",
       "      <td>...</td>\n",
       "      <td>...</td>\n",
       "      <td>...</td>\n",
       "    </tr>\n",
       "    <tr>\n",
       "      <th>1043</th>\n",
       "      <td>fadhilahrzkn</td>\n",
       "      <td>2022-06-07 09:51:59</td>\n",
       "      <td>walopun bukan anak sekolaan, gua turut merasak...</td>\n",
       "    </tr>\n",
       "    <tr>\n",
       "      <th>1044</th>\n",
       "      <td>Nieza_Styles</td>\n",
       "      <td>2022-06-07 01:30:23</td>\n",
       "      <td>Tapi mas udah kayak Sekolah aja sekarang tatap...</td>\n",
       "    </tr>\n",
       "    <tr>\n",
       "      <th>1045</th>\n",
       "      <td>jagapatidotcom</td>\n",
       "      <td>2022-06-06 12:30:11</td>\n",
       "      <td>Tapi, emang udah siap hidup normal? 🤔\\n\\nKemba...</td>\n",
       "    </tr>\n",
       "    <tr>\n",
       "      <th>1046</th>\n",
       "      <td>Crisa_na</td>\n",
       "      <td>2022-06-06 08:21:33</td>\n",
       "      <td>Puan bersyukur Indonesia mulai memasuki fase e...</td>\n",
       "    </tr>\n",
       "    <tr>\n",
       "      <th>1047</th>\n",
       "      <td>gogogentur</td>\n",
       "      <td>2022-06-06 08:17:09</td>\n",
       "      <td>@YogiManaLagi11 @andreayudias @tvindonesiawkwk...</td>\n",
       "    </tr>\n",
       "  </tbody>\n",
       "</table>\n",
       "<p>1048 rows × 3 columns</p>\n",
       "</div>"
      ],
      "text/plain": [
       "            username       tweetcreatedts  \\\n",
       "0            cemilih  2022-05-28 19:38:20   \n",
       "1           JUNGJIES  2022-05-28 17:46:37   \n",
       "2     collegemenfess  2022-05-28 16:51:24   \n",
       "3           lykygsgf  2022-05-28 16:19:47   \n",
       "4         achteezers  2022-05-28 16:06:04   \n",
       "...              ...                  ...   \n",
       "1043    fadhilahrzkn  2022-06-07 09:51:59   \n",
       "1044    Nieza_Styles  2022-06-07 01:30:23   \n",
       "1045  jagapatidotcom  2022-06-06 12:30:11   \n",
       "1046        Crisa_na  2022-06-06 08:21:33   \n",
       "1047      gogogentur  2022-06-06 08:17:09   \n",
       "\n",
       "                                                  tweet  \n",
       "0     kalo udah mulai normal lagi, udah pada sekolah...  \n",
       "1     pdhl brg2 jg glama pas msh offline, tau2 sekol...  \n",
       "2     [cm] kalo sidang offline berkas² pas penelitia...  \n",
       "3     @subschfess campur². ada senengnya, cnth kl ke...  \n",
       "4     gue dulu pacaran uwunya masih era offline nder...  \n",
       "...                                                 ...  \n",
       "1043  walopun bukan anak sekolaan, gua turut merasak...  \n",
       "1044  Tapi mas udah kayak Sekolah aja sekarang tatap...  \n",
       "1045  Tapi, emang udah siap hidup normal? 🤔\\n\\nKemba...  \n",
       "1046  Puan bersyukur Indonesia mulai memasuki fase e...  \n",
       "1047  @YogiManaLagi11 @andreayudias @tvindonesiawkwk...  \n",
       "\n",
       "[1048 rows x 3 columns]"
      ]
     },
     "execution_count": 9,
     "metadata": {},
     "output_type": "execute_result"
    }
   ],
   "source": [
    "dataLengkap"
   ]
  },
  {
   "cell_type": "markdown",
   "metadata": {
    "id": "Cq0preH9PT6x"
   },
   "source": [
    "## Acak data pada dataset"
   ]
  },
  {
   "cell_type": "code",
   "execution_count": 22,
   "metadata": {
    "id": "3tjlnVjE8mbB"
   },
   "outputs": [],
   "source": [
    "df = pd.read_csv('dataset/dataset-preprocessing1.csv') # avoid header=None. \n",
    "shuffled_df = df.sample(frac=1)\n",
    "shuffled_df.to_csv('dataset/Data-2000acak.csv', index=False)"
   ]
  },
  {
   "cell_type": "code",
   "execution_count": 23,
   "metadata": {
    "id": "k-s6ScNnPsLC"
   },
   "outputs": [],
   "source": [
    "DataAcak = pd.read_csv('dataset/Data-2000acak.csv')"
   ]
  },
  {
   "cell_type": "code",
   "execution_count": 24,
   "metadata": {
    "colab": {
     "base_uri": "https://localhost:8080/",
     "height": 424
    },
    "id": "MgQDpmpQPqG4",
    "outputId": "eb1581a8-0ab9-49d2-bf83-b6fbdced289d"
   },
   "outputs": [
    {
     "data": {
      "text/html": [
       "<div>\n",
       "<style scoped>\n",
       "    .dataframe tbody tr th:only-of-type {\n",
       "        vertical-align: middle;\n",
       "    }\n",
       "\n",
       "    .dataframe tbody tr th {\n",
       "        vertical-align: top;\n",
       "    }\n",
       "\n",
       "    .dataframe thead th {\n",
       "        text-align: right;\n",
       "    }\n",
       "</style>\n",
       "<table border=\"1\" class=\"dataframe\">\n",
       "  <thead>\n",
       "    <tr style=\"text-align: right;\">\n",
       "      <th></th>\n",
       "      <th>tweet_bersih</th>\n",
       "      <th>label_sentimen</th>\n",
       "    </tr>\n",
       "  </thead>\n",
       "  <tbody>\n",
       "    <tr>\n",
       "      <th>0</th>\n",
       "      <td>sekolahkerja via daring enak begadang bangun s...</td>\n",
       "      <td>-1</td>\n",
       "    </tr>\n",
       "    <tr>\n",
       "      <th>1</th>\n",
       "      <td>gubernur jawa timur sekolah temu tatap muka pt...</td>\n",
       "      <td>1</td>\n",
       "    </tr>\n",
       "    <tr>\n",
       "      <th>2</th>\n",
       "      <td>syukur indonesia masuk fase endemi covid kondi...</td>\n",
       "      <td>1</td>\n",
       "    </tr>\n",
       "    <tr>\n",
       "      <th>3</th>\n",
       "      <td>sekolah offline kak pulang jam les jam wahwah</td>\n",
       "      <td>-1</td>\n",
       "    </tr>\n",
       "    <tr>\n",
       "      <th>4</th>\n",
       "      <td>eh sekolah offline jam</td>\n",
       "      <td>0</td>\n",
       "    </tr>\n",
       "    <tr>\n",
       "      <th>...</th>\n",
       "      <td>...</td>\n",
       "      <td>...</td>\n",
       "    </tr>\n",
       "    <tr>\n",
       "      <th>2005</th>\n",
       "      <td>lxyc sekolah daring offline by the way sarap</td>\n",
       "      <td>0</td>\n",
       "    </tr>\n",
       "    <tr>\n",
       "      <th>2006</th>\n",
       "      <td>masuk kuliah offline alam masuk sekolah menit ...</td>\n",
       "      <td>0</td>\n",
       "    </tr>\n",
       "    <tr>\n",
       "      <th>2007</th>\n",
       "      <td>min wishlist bgadang kantong mata hitam sekola...</td>\n",
       "      <td>0</td>\n",
       "    </tr>\n",
       "    <tr>\n",
       "      <th>2008</th>\n",
       "      <td>sekolah teman saya drad wisuda offline</td>\n",
       "      <td>0</td>\n",
       "    </tr>\n",
       "    <tr>\n",
       "      <th>2009</th>\n",
       "      <td>sekolahoffline sekolah offline</td>\n",
       "      <td>1</td>\n",
       "    </tr>\n",
       "  </tbody>\n",
       "</table>\n",
       "<p>2010 rows × 2 columns</p>\n",
       "</div>"
      ],
      "text/plain": [
       "                                           tweet_bersih  label_sentimen\n",
       "0     sekolahkerja via daring enak begadang bangun s...              -1\n",
       "1     gubernur jawa timur sekolah temu tatap muka pt...               1\n",
       "2     syukur indonesia masuk fase endemi covid kondi...               1\n",
       "3         sekolah offline kak pulang jam les jam wahwah              -1\n",
       "4                                eh sekolah offline jam               0\n",
       "...                                                 ...             ...\n",
       "2005       lxyc sekolah daring offline by the way sarap               0\n",
       "2006  masuk kuliah offline alam masuk sekolah menit ...               0\n",
       "2007  min wishlist bgadang kantong mata hitam sekola...               0\n",
       "2008             sekolah teman saya drad wisuda offline               0\n",
       "2009                     sekolahoffline sekolah offline               1\n",
       "\n",
       "[2010 rows x 2 columns]"
      ]
     },
     "execution_count": 24,
     "metadata": {},
     "output_type": "execute_result"
    }
   ],
   "source": [
    "DataAcak"
   ]
  },
  {
   "cell_type": "code",
   "execution_count": 13,
   "metadata": {},
   "outputs": [],
   "source": [
    "data1 = pd.read_csv('dataset/dataset 2022/sekolah offline-29mei2022.csv')\n",
    "data2 = pd.read_csv('dataset/dataset 2022/sekolah offline-6juni2022.csv')\n",
    "data3 = pd.read_csv('dataset/dataset 2022/sekolah offline-13juni2022.csv')\n",
    "data4 = pd.read_csv('dataset uji/dataset-crawling-juli.csv')\n",
    "data5 = pd.read_csv('dataset uji/dataset-crawling.csv')"
   ]
  },
  {
   "cell_type": "code",
   "execution_count": 14,
   "metadata": {},
   "outputs": [],
   "source": [
    "frames = [data1, data2, data3, data4, data5] \n",
    "result = pd.concat(frames).drop_duplicates().reset_index(drop=True)"
   ]
  },
  {
   "cell_type": "code",
   "execution_count": 15,
   "metadata": {},
   "outputs": [],
   "source": [
    "result.to_csv(r'dataset/Dataset-Nolabel.csv', index=False)"
   ]
  },
  {
   "cell_type": "code",
   "execution_count": 16,
   "metadata": {},
   "outputs": [],
   "source": [
    "dataLengkap = pd.read_csv('dataset/Dataset-Nolabel.csv')"
   ]
  },
  {
   "cell_type": "code",
   "execution_count": 17,
   "metadata": {},
   "outputs": [
    {
     "data": {
      "text/html": [
       "<div>\n",
       "<style scoped>\n",
       "    .dataframe tbody tr th:only-of-type {\n",
       "        vertical-align: middle;\n",
       "    }\n",
       "\n",
       "    .dataframe tbody tr th {\n",
       "        vertical-align: top;\n",
       "    }\n",
       "\n",
       "    .dataframe thead th {\n",
       "        text-align: right;\n",
       "    }\n",
       "</style>\n",
       "<table border=\"1\" class=\"dataframe\">\n",
       "  <thead>\n",
       "    <tr style=\"text-align: right;\">\n",
       "      <th></th>\n",
       "      <th>username</th>\n",
       "      <th>tweetcreatedts</th>\n",
       "      <th>tweet</th>\n",
       "    </tr>\n",
       "  </thead>\n",
       "  <tbody>\n",
       "    <tr>\n",
       "      <th>0</th>\n",
       "      <td>cemilih</td>\n",
       "      <td>2022-05-28 19:38:20</td>\n",
       "      <td>kalo udah mulai normal lagi, udah pada sekolah...</td>\n",
       "    </tr>\n",
       "    <tr>\n",
       "      <th>1</th>\n",
       "      <td>JUNGJIES</td>\n",
       "      <td>2022-05-28 17:46:37</td>\n",
       "      <td>pdhl brg2 jg glama pas msh offline, tau2 sekol...</td>\n",
       "    </tr>\n",
       "    <tr>\n",
       "      <th>2</th>\n",
       "      <td>collegemenfess</td>\n",
       "      <td>2022-05-28 16:51:24</td>\n",
       "      <td>[cm] kalo sidang offline berkas² pas penelitia...</td>\n",
       "    </tr>\n",
       "    <tr>\n",
       "      <th>3</th>\n",
       "      <td>lykygsgf</td>\n",
       "      <td>2022-05-28 16:19:47</td>\n",
       "      <td>@subschfess campur². ada senengnya, cnth kl ke...</td>\n",
       "    </tr>\n",
       "    <tr>\n",
       "      <th>4</th>\n",
       "      <td>achteezers</td>\n",
       "      <td>2022-05-28 16:06:04</td>\n",
       "      <td>gue dulu pacaran uwunya masih era offline nder...</td>\n",
       "    </tr>\n",
       "    <tr>\n",
       "      <th>...</th>\n",
       "      <td>...</td>\n",
       "      <td>...</td>\n",
       "      <td>...</td>\n",
       "    </tr>\n",
       "    <tr>\n",
       "      <th>1242</th>\n",
       "      <td>san_sidoarjo</td>\n",
       "      <td>2022-07-15 00:05:57+00:00</td>\n",
       "      <td>[ RAPAT SEKOLAH NUSANTARA 2022 ]\\n\\nHalo SAN P...</td>\n",
       "    </tr>\n",
       "    <tr>\n",
       "      <th>1243</th>\n",
       "      <td>markIeemonade</td>\n",
       "      <td>2022-07-14 14:58:25+00:00</td>\n",
       "      <td>@sbmptnfess - ada kelas offline+online nya, ke...</td>\n",
       "    </tr>\n",
       "    <tr>\n",
       "      <th>1244</th>\n",
       "      <td>loafswharuto</td>\n",
       "      <td>2022-07-14 12:50:29+00:00</td>\n",
       "      <td>@harulovies iya😭😭 cz tahun kmrn kan hampir set...</td>\n",
       "    </tr>\n",
       "    <tr>\n",
       "      <th>1245</th>\n",
       "      <td>W42N_smr89</td>\n",
       "      <td>2022-07-14 09:35:59+00:00</td>\n",
       "      <td>Dulu demi anak sekolah daring dirumah sampai b...</td>\n",
       "    </tr>\n",
       "    <tr>\n",
       "      <th>1246</th>\n",
       "      <td>converwt</td>\n",
       "      <td>2022-07-14 06:22:35+00:00</td>\n",
       "      <td>moots, buat yang masih sekolah kalian udah ful...</td>\n",
       "    </tr>\n",
       "  </tbody>\n",
       "</table>\n",
       "<p>1247 rows × 3 columns</p>\n",
       "</div>"
      ],
      "text/plain": [
       "            username             tweetcreatedts  \\\n",
       "0            cemilih        2022-05-28 19:38:20   \n",
       "1           JUNGJIES        2022-05-28 17:46:37   \n",
       "2     collegemenfess        2022-05-28 16:51:24   \n",
       "3           lykygsgf        2022-05-28 16:19:47   \n",
       "4         achteezers        2022-05-28 16:06:04   \n",
       "...              ...                        ...   \n",
       "1242    san_sidoarjo  2022-07-15 00:05:57+00:00   \n",
       "1243   markIeemonade  2022-07-14 14:58:25+00:00   \n",
       "1244    loafswharuto  2022-07-14 12:50:29+00:00   \n",
       "1245      W42N_smr89  2022-07-14 09:35:59+00:00   \n",
       "1246        converwt  2022-07-14 06:22:35+00:00   \n",
       "\n",
       "                                                  tweet  \n",
       "0     kalo udah mulai normal lagi, udah pada sekolah...  \n",
       "1     pdhl brg2 jg glama pas msh offline, tau2 sekol...  \n",
       "2     [cm] kalo sidang offline berkas² pas penelitia...  \n",
       "3     @subschfess campur². ada senengnya, cnth kl ke...  \n",
       "4     gue dulu pacaran uwunya masih era offline nder...  \n",
       "...                                                 ...  \n",
       "1242  [ RAPAT SEKOLAH NUSANTARA 2022 ]\\n\\nHalo SAN P...  \n",
       "1243  @sbmptnfess - ada kelas offline+online nya, ke...  \n",
       "1244  @harulovies iya😭😭 cz tahun kmrn kan hampir set...  \n",
       "1245  Dulu demi anak sekolah daring dirumah sampai b...  \n",
       "1246  moots, buat yang masih sekolah kalian udah ful...  \n",
       "\n",
       "[1247 rows x 3 columns]"
      ]
     },
     "execution_count": 17,
     "metadata": {},
     "output_type": "execute_result"
    }
   ],
   "source": [
    "dataLengkap"
   ]
  },
  {
   "cell_type": "code",
   "execution_count": null,
   "metadata": {},
   "outputs": [],
   "source": [
    "#----------------------------------------------------------------------------------------------------------"
   ]
  },
  {
   "cell_type": "code",
   "execution_count": 2,
   "metadata": {},
   "outputs": [],
   "source": [
    "data1 = pd.read_csv('dataset/dataset 2021/dataset2021label.csv')\n",
    "data2 = pd.read_csv('dataset uji/hasil-klasifikasi.csv')"
   ]
  },
  {
   "cell_type": "code",
   "execution_count": null,
   "metadata": {},
   "outputs": [],
   "source": [
    "filename = 'NewDataset/dataset-2021.csv'\n",
    "data1.to_csv(filename, columns=['tweet', 'label_sentimen'], index=False)"
   ]
  },
  {
   "cell_type": "code",
   "execution_count": 6,
   "metadata": {},
   "outputs": [
    {
     "data": {
      "text/plain": [
       "(1200, 3)"
      ]
     },
     "execution_count": 6,
     "metadata": {},
     "output_type": "execute_result"
    }
   ],
   "source": [
    "# melakukan konversi sentimen ke label 0 untuk negatif dan 1 untuk positif\n",
    "def convert_sentimen(sentimen):\n",
    "    if sentimen == \"positif\":\n",
    "        return 1\n",
    "    if sentimen == \"negatif\":\n",
    "        return -1\n",
    "    else:\n",
    "        return 0\n",
    "\n",
    "data2['label_sentimen'] = data2['label_prediksi'].apply(convert_sentimen)\n",
    "data2.shape"
   ]
  },
  {
   "cell_type": "code",
   "execution_count": 7,
   "metadata": {},
   "outputs": [
    {
     "data": {
      "text/html": [
       "<div>\n",
       "<style scoped>\n",
       "    .dataframe tbody tr th:only-of-type {\n",
       "        vertical-align: middle;\n",
       "    }\n",
       "\n",
       "    .dataframe tbody tr th {\n",
       "        vertical-align: top;\n",
       "    }\n",
       "\n",
       "    .dataframe thead th {\n",
       "        text-align: right;\n",
       "    }\n",
       "</style>\n",
       "<table border=\"1\" class=\"dataframe\">\n",
       "  <thead>\n",
       "    <tr style=\"text-align: right;\">\n",
       "      <th></th>\n",
       "      <th>tweet</th>\n",
       "      <th>label_prediksi</th>\n",
       "      <th>label_sentimen</th>\n",
       "    </tr>\n",
       "  </thead>\n",
       "  <tbody>\n",
       "    <tr>\n",
       "      <th>0</th>\n",
       "      <td>kalo udah mulai normal lagi, udah pada sekolah...</td>\n",
       "      <td>positif</td>\n",
       "      <td>1</td>\n",
       "    </tr>\n",
       "    <tr>\n",
       "      <th>1</th>\n",
       "      <td>pdhl brg2 jg glama pas msh offline, tau2 sekol...</td>\n",
       "      <td>negatif</td>\n",
       "      <td>-1</td>\n",
       "    </tr>\n",
       "    <tr>\n",
       "      <th>2</th>\n",
       "      <td>[cm] kalo sidang offline berkas² pas penelitia...</td>\n",
       "      <td>positif</td>\n",
       "      <td>1</td>\n",
       "    </tr>\n",
       "    <tr>\n",
       "      <th>3</th>\n",
       "      <td>@subschfess campur². ada senengnya, cnth kl ke...</td>\n",
       "      <td>negatif</td>\n",
       "      <td>-1</td>\n",
       "    </tr>\n",
       "    <tr>\n",
       "      <th>4</th>\n",
       "      <td>gue dulu pacaran uwunya masih era offline nder...</td>\n",
       "      <td>positif</td>\n",
       "      <td>1</td>\n",
       "    </tr>\n",
       "    <tr>\n",
       "      <th>...</th>\n",
       "      <td>...</td>\n",
       "      <td>...</td>\n",
       "      <td>...</td>\n",
       "    </tr>\n",
       "    <tr>\n",
       "      <th>1195</th>\n",
       "      <td>sekolah ku udah mulai offline dari maret dann ...</td>\n",
       "      <td>netral</td>\n",
       "      <td>0</td>\n",
       "    </tr>\n",
       "    <tr>\n",
       "      <th>1196</th>\n",
       "      <td>mana udah offline sekolah</td>\n",
       "      <td>netral</td>\n",
       "      <td>0</td>\n",
       "    </tr>\n",
       "    <tr>\n",
       "      <th>1197</th>\n",
       "      <td>gue kira senin bakal sekolah offline ternyata ...</td>\n",
       "      <td>netral</td>\n",
       "      <td>0</td>\n",
       "    </tr>\n",
       "    <tr>\n",
       "      <th>1198</th>\n",
       "      <td>art! curhat dkit sender akhir2 ini capek bgt s...</td>\n",
       "      <td>positif</td>\n",
       "      <td>1</td>\n",
       "    </tr>\n",
       "    <tr>\n",
       "      <th>1199</th>\n",
       "      <td>(Kelas 12) karna udah dibolehin sekolah secara...</td>\n",
       "      <td>positif</td>\n",
       "      <td>1</td>\n",
       "    </tr>\n",
       "  </tbody>\n",
       "</table>\n",
       "<p>1200 rows × 3 columns</p>\n",
       "</div>"
      ],
      "text/plain": [
       "                                                  tweet label_prediksi  \\\n",
       "0     kalo udah mulai normal lagi, udah pada sekolah...        positif   \n",
       "1     pdhl brg2 jg glama pas msh offline, tau2 sekol...        negatif   \n",
       "2     [cm] kalo sidang offline berkas² pas penelitia...        positif   \n",
       "3     @subschfess campur². ada senengnya, cnth kl ke...        negatif   \n",
       "4     gue dulu pacaran uwunya masih era offline nder...        positif   \n",
       "...                                                 ...            ...   \n",
       "1195  sekolah ku udah mulai offline dari maret dann ...         netral   \n",
       "1196                          mana udah offline sekolah         netral   \n",
       "1197  gue kira senin bakal sekolah offline ternyata ...         netral   \n",
       "1198  art! curhat dkit sender akhir2 ini capek bgt s...        positif   \n",
       "1199  (Kelas 12) karna udah dibolehin sekolah secara...        positif   \n",
       "\n",
       "      label_sentimen  \n",
       "0                  1  \n",
       "1                 -1  \n",
       "2                  1  \n",
       "3                 -1  \n",
       "4                  1  \n",
       "...              ...  \n",
       "1195               0  \n",
       "1196               0  \n",
       "1197               0  \n",
       "1198               1  \n",
       "1199               1  \n",
       "\n",
       "[1200 rows x 3 columns]"
      ]
     },
     "execution_count": 7,
     "metadata": {},
     "output_type": "execute_result"
    }
   ],
   "source": [
    "data2"
   ]
  },
  {
   "cell_type": "code",
   "execution_count": 8,
   "metadata": {},
   "outputs": [],
   "source": [
    "filename = 'NewDataset/dataset-2022.csv'\n",
    "data2.to_csv(filename, columns=['tweet', 'label_sentimen'], index=False)"
   ]
  },
  {
   "cell_type": "code",
   "execution_count": 9,
   "metadata": {},
   "outputs": [],
   "source": [
    "data21 = pd.read_csv('NewDataset/dataset-2021.csv')\n",
    "data22 = pd.read_csv('NewDataset/dataset-2022.csv')"
   ]
  },
  {
   "cell_type": "code",
   "execution_count": 10,
   "metadata": {},
   "outputs": [],
   "source": [
    "frames = [data21, data22] \n",
    "result = pd.concat(frames).drop_duplicates().reset_index(drop=True)"
   ]
  },
  {
   "cell_type": "code",
   "execution_count": 11,
   "metadata": {},
   "outputs": [],
   "source": [
    "result.to_csv(r'NewDataset/Dataset-label.csv', index=False)"
   ]
  },
  {
   "cell_type": "code",
   "execution_count": 13,
   "metadata": {},
   "outputs": [
    {
     "data": {
      "text/html": [
       "<div>\n",
       "<style scoped>\n",
       "    .dataframe tbody tr th:only-of-type {\n",
       "        vertical-align: middle;\n",
       "    }\n",
       "\n",
       "    .dataframe tbody tr th {\n",
       "        vertical-align: top;\n",
       "    }\n",
       "\n",
       "    .dataframe thead th {\n",
       "        text-align: right;\n",
       "    }\n",
       "</style>\n",
       "<table border=\"1\" class=\"dataframe\">\n",
       "  <thead>\n",
       "    <tr style=\"text-align: right;\">\n",
       "      <th></th>\n",
       "      <th>tweet</th>\n",
       "      <th>label_sentimen</th>\n",
       "    </tr>\n",
       "  </thead>\n",
       "  <tbody>\n",
       "    <tr>\n",
       "      <th>0</th>\n",
       "      <td>ASTAGAAAA BARU INGET SEKARANG SEKOLAH OFFLINE</td>\n",
       "      <td>-1</td>\n",
       "    </tr>\n",
       "    <tr>\n",
       "      <th>1</th>\n",
       "      <td>Yg udh sekolah offline, lama lama bosan gsi se...</td>\n",
       "      <td>-1</td>\n",
       "    </tr>\n",
       "    <tr>\n",
       "      <th>2</th>\n",
       "      <td>@jinhwanchy Wah udah sekolah offline? Semangat...</td>\n",
       "      <td>1</td>\n",
       "    </tr>\n",
       "    <tr>\n",
       "      <th>3</th>\n",
       "      <td>@Fajri_UN1TY Haii juga, yuk yg sekolah offline...</td>\n",
       "      <td>1</td>\n",
       "    </tr>\n",
       "    <tr>\n",
       "      <th>4</th>\n",
       "      <td>Sch! Hai gais hari ini sender PTM untuk yg per...</td>\n",
       "      <td>-1</td>\n",
       "    </tr>\n",
       "    <tr>\n",
       "      <th>...</th>\n",
       "      <td>...</td>\n",
       "      <td>...</td>\n",
       "    </tr>\n",
       "    <tr>\n",
       "      <th>995</th>\n",
       "      <td>Ya Tuhan, besok sekolah agama offline aku gama...</td>\n",
       "      <td>-1</td>\n",
       "    </tr>\n",
       "    <tr>\n",
       "      <th>996</th>\n",
       "      <td>@jegiannnnn__ bukan 0 sih, tapi udh mau zona i...</td>\n",
       "      <td>1</td>\n",
       "    </tr>\n",
       "    <tr>\n",
       "      <th>997</th>\n",
       "      <td>@CHOl_SAN_ @prkdlx Nanti pulang sekolah ya, ak...</td>\n",
       "      <td>0</td>\n",
       "    </tr>\n",
       "    <tr>\n",
       "      <th>998</th>\n",
       "      <td>Males bgt sekolah offline😭😭</td>\n",
       "      <td>-1</td>\n",
       "    </tr>\n",
       "    <tr>\n",
       "      <th>999</th>\n",
       "      <td>@peachwzrl_ Bener banget :(. Aku dulu waktu ma...</td>\n",
       "      <td>0</td>\n",
       "    </tr>\n",
       "  </tbody>\n",
       "</table>\n",
       "<p>1000 rows × 2 columns</p>\n",
       "</div>"
      ],
      "text/plain": [
       "                                                 tweet  label_sentimen\n",
       "0        ASTAGAAAA BARU INGET SEKARANG SEKOLAH OFFLINE              -1\n",
       "1    Yg udh sekolah offline, lama lama bosan gsi se...              -1\n",
       "2    @jinhwanchy Wah udah sekolah offline? Semangat...               1\n",
       "3    @Fajri_UN1TY Haii juga, yuk yg sekolah offline...               1\n",
       "4    Sch! Hai gais hari ini sender PTM untuk yg per...              -1\n",
       "..                                                 ...             ...\n",
       "995  Ya Tuhan, besok sekolah agama offline aku gama...              -1\n",
       "996  @jegiannnnn__ bukan 0 sih, tapi udh mau zona i...               1\n",
       "997  @CHOl_SAN_ @prkdlx Nanti pulang sekolah ya, ak...               0\n",
       "998                        Males bgt sekolah offline😭😭              -1\n",
       "999  @peachwzrl_ Bener banget :(. Aku dulu waktu ma...               0\n",
       "\n",
       "[1000 rows x 2 columns]"
      ]
     },
     "execution_count": 13,
     "metadata": {},
     "output_type": "execute_result"
    }
   ],
   "source": [
    "data21"
   ]
  },
  {
   "cell_type": "code",
   "execution_count": null,
   "metadata": {},
   "outputs": [],
   "source": []
  }
 ],
 "metadata": {
  "colab": {
   "name": "Join Dataset.ipynb",
   "provenance": []
  },
  "kernelspec": {
   "display_name": "Python 3 (ipykernel)",
   "language": "python",
   "name": "python3"
  },
  "language_info": {
   "codemirror_mode": {
    "name": "ipython",
    "version": 3
   },
   "file_extension": ".py",
   "mimetype": "text/x-python",
   "name": "python",
   "nbconvert_exporter": "python",
   "pygments_lexer": "ipython3",
   "version": "3.9.5"
  }
 },
 "nbformat": 4,
 "nbformat_minor": 4
}
