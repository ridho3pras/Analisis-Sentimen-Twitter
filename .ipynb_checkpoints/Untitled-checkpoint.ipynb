{
 "cells": [
  {
   "cell_type": "code",
   "execution_count": 22,
   "id": "588d154a-dbf0-469b-8c36-30d9f735c9cd",
   "metadata": {},
   "outputs": [],
   "source": [
    "import pandas as pd\n",
    "import numpy as np\n",
    "import re\n",
    "import joblib\n",
    "import pickle\n",
    "from sklearn import model_selection\n",
    "from sklearn.naive_bayes import MultinomialNB\n",
    "from sklearn.metrics import classification_report\n",
    "from sklearn.model_selection import train_test_split\n",
    "from sklearn.feature_extraction.text import TfidfVectorizer\n",
    "from sklearn.metrics import accuracy_score,confusion_matrix,f1_score,recall_score,precision_score\n",
    "import sklearn.metrics as metrics\n",
    "from sklearn.metrics import plot_confusion_matrix\n",
    "from sklearn import svm\n",
    "import matplotlib.pyplot as plt\n",
    "from wordcloud import WordCloud\n",
    "from PIL import Image\n",
    "import seaborn as sns"
   ]
  },
  {
   "cell_type": "code",
   "execution_count": 34,
   "id": "3a28af1d-840f-4d53-a929-cacd149ee394",
   "metadata": {},
   "outputs": [],
   "source": [
    "data_twt = pd.read_csv(\"dataset/dataset-preprocessing.csv\")"
   ]
  },
  {
   "cell_type": "code",
   "execution_count": 35,
   "id": "7f54a599-e6b1-4b31-8c4d-c5c9c4c3ff7d",
   "metadata": {},
   "outputs": [
    {
     "data": {
      "text/plain": [
       "(1000, 3)"
      ]
     },
     "execution_count": 35,
     "metadata": {},
     "output_type": "execute_result"
    }
   ],
   "source": [
    "# melakukan konversi sentimen ke label 0 untuk negatif dan 1 untuk positif\n",
    "def convert_sentimen(sentimen):\n",
    "    if sentimen == 1:\n",
    "        return \"positif\"\n",
    "    if sentimen == -1:\n",
    "        return \"negatif\"\n",
    "    else:\n",
    "        return \"netral\"\n",
    "\n",
    "data_twt['sentimen'] = data_twt['label_sentimen'].apply(convert_sentimen)\n",
    "data_twt.shape"
   ]
  },
  {
   "cell_type": "code",
   "execution_count": 36,
   "id": "7112acf3-f1ef-4999-a387-72837ca5b50d",
   "metadata": {},
   "outputs": [],
   "source": [
    "# print( final_vectorized_data)"
   ]
  },
  {
   "cell_type": "code",
   "execution_count": 37,
   "id": "d43c69e6-d1bc-437b-aaa7-15aa324656f0",
   "metadata": {},
   "outputs": [
    {
     "data": {
      "text/plain": [
       "<1000x6490 sparse matrix of type '<class 'numpy.float64'>'\n",
       "\twith 14481 stored elements in Compressed Sparse Row format>"
      ]
     },
     "execution_count": 37,
     "metadata": {},
     "output_type": "execute_result"
    }
   ],
   "source": [
    "# Tfidf\n",
    "\n",
    "from sklearn.feature_extraction.text import TfidfVectorizer \n",
    "\n",
    "tf_idf_vectorizer = TfidfVectorizer(use_idf=True,ngram_range=(1,2))\n",
    "final_vectorized_data = tf_idf_vectorizer.fit_transform(data_twt['tweet_bersih'])\n",
    "\n",
    "final_vectorized_data"
   ]
  },
  {
   "cell_type": "code",
   "execution_count": 38,
   "id": "b024de57-058b-43b2-8862-f338919c671d",
   "metadata": {},
   "outputs": [],
   "source": [
    "#Count Vector \n",
    "\n",
    "# from sklearn.feature_extraction.text import CountVectorizer\n",
    "\n",
    "# count_vectorizer = CountVectorizer(ngram_range=(1,2))    # Unigram and Bigram\n",
    "# final_vectorized_data = count_vectorizer.fit_transform(data_twt['tweet_bersih'])  \n",
    "# final_vectorized_data\n",
    "# # print('{} Number of reviews has {} words'. format(final_vectorized_data.shape[0], final_vectorized_data.shape[1])) "
   ]
  },
  {
   "cell_type": "code",
   "execution_count": 39,
   "id": "164e0278-8af5-45b0-8cd6-818df269e41f",
   "metadata": {},
   "outputs": [],
   "source": [
    "from sklearn.model_selection import train_test_split\n",
    "X_train, X_test, y_train, y_test = train_test_split(final_vectorized_data, data_twt['sentimen'],\n",
    "                                                    test_size=0.1, random_state=9)"
   ]
  },
  {
   "cell_type": "markdown",
   "id": "c76780e7-c11a-4a2b-8cca-eea461de8eda",
   "metadata": {},
   "source": [
    "# Naive Bayes"
   ]
  },
  {
   "cell_type": "code",
   "execution_count": 40,
   "id": "88c00d33-0e2f-4f7a-ae8f-08f77aa83c06",
   "metadata": {},
   "outputs": [],
   "source": [
    "from sklearn.naive_bayes import MultinomialNB  # Naive Bayes Classifier\n",
    "\n",
    "model_naive = MultinomialNB().fit(X_train, y_train) \n",
    "predict = model_naive.predict(X_test)"
   ]
  },
  {
   "cell_type": "code",
   "execution_count": 41,
   "id": "744f2fb3-aa06-4165-99d1-79cf364802e0",
   "metadata": {},
   "outputs": [
    {
     "data": {
      "image/png": "[encoded data removed]",
      "text/plain": [
       "<Figure size 576x360 with 2 Axes>"
      ]
     },
     "metadata": {
      "needs_background": "light"
     },
     "output_type": "display_data"
    }
   ],
   "source": [
    "from sklearn.metrics import plot_confusion_matrix\n",
    "import matplotlib.pyplot as plt\n",
    "import seaborn as sns\n",
    "\n",
    "f, ax = plt.subplots(figsize=(8,5))\n",
    "sns.heatmap(confusion_matrix(y_test, predict), annot=True, fmt=\".0f\", ax=ax)\n",
    "plt.xlabel(\"Predicted Label\")\n",
    "plt.ylabel(\"True Label\")\n",
    "plt.show()"
   ]
  },
  {
   "cell_type": "code",
   "execution_count": 42,
   "id": "35ce6ec4-2087-43a8-a4ae-38d9ded93fe2",
   "metadata": {},
   "outputs": [
    {
     "name": "stdout",
     "output_type": "stream",
     "text": [
      "Hasil akurasi model : \n",
      "0.76\n"
     ]
    }
   ],
   "source": [
    "print('Hasil akurasi model : ')\n",
    "print(accuracy_score(y_test, predict))"
   ]
  },
  {
   "cell_type": "markdown",
   "id": "ff38bb0b-30a6-4c1b-8324-71fe0a518be2",
   "metadata": {},
   "source": [
    "# KNN (k-Nearest Neighbor)"
   ]
  },
  {
   "cell_type": "code",
   "execution_count": 43,
   "id": "8470bfe6-8127-4e14-909e-4cbcc0772b00",
   "metadata": {},
   "outputs": [],
   "source": [
    "from sklearn.neighbors import KNeighborsClassifier"
   ]
  },
  {
   "cell_type": "code",
   "execution_count": 44,
   "id": "0d57cb33-f1ed-47e2-a853-f949113dffc5",
   "metadata": {},
   "outputs": [
    {
     "name": "stdout",
     "output_type": "stream",
     "text": [
      "['positif' 'positif' 'positif' 'netral' 'netral' 'negatif' 'netral'\n",
      " 'positif' 'netral' 'netral' 'netral' 'netral' 'positif' 'negatif'\n",
      " 'netral' 'netral' 'negatif' 'negatif' 'netral' 'netral' 'netral'\n",
      " 'positif' 'negatif' 'netral' 'netral' 'netral' 'positif' 'netral'\n",
      " 'positif' 'positif' 'netral' 'positif' 'positif' 'netral' 'netral'\n",
      " 'netral' 'negatif' 'netral' 'netral' 'positif' 'netral' 'positif'\n",
      " 'netral' 'positif' 'netral' 'positif' 'negatif' 'netral' 'negatif'\n",
      " 'netral' 'netral' 'positif' 'positif' 'netral' 'netral' 'negatif'\n",
      " 'netral' 'netral' 'netral' 'netral' 'netral' 'netral' 'negatif' 'positif'\n",
      " 'negatif' 'netral' 'negatif' 'netral' 'netral' 'positif' 'netral'\n",
      " 'netral' 'netral' 'positif' 'netral' 'positif' 'netral' 'netral' 'netral'\n",
      " 'netral' 'positif' 'netral' 'netral' 'netral' 'positif' 'positif'\n",
      " 'positif' 'positif' 'positif' 'netral' 'positif' 'netral' 'netral'\n",
      " 'netral' 'positif' 'netral' 'positif' 'positif' 'positif' 'negatif']\n"
     ]
    }
   ],
   "source": [
    "knn = KNeighborsClassifier(n_neighbors=14)\n",
    "## Fit the model on the training data.\n",
    "knn.fit(X_train, y_train)\n",
    "## See how the model performs on the test data.\n",
    "predik = knn.predict(X_test)\n",
    "print(predik)"
   ]
  },
  {
   "cell_type": "code",
   "execution_count": 45,
   "id": "13718d79-0d8c-47a0-b3ad-7b42b5c1b68a",
   "metadata": {},
   "outputs": [
    {
     "data": {
      "image/png": "[encoded data removed]",
      "text/plain": [
       "<Figure size 576x360 with 2 Axes>"
      ]
     },
     "metadata": {
      "needs_background": "light"
     },
     "output_type": "display_data"
    }
   ],
   "source": [
    "from sklearn.metrics import plot_confusion_matrix\n",
    "import matplotlib.pyplot as plt\n",
    "import seaborn as sns\n",
    "\n",
    "f, ax = plt.subplots(figsize=(8,5))\n",
    "sns.heatmap(confusion_matrix(y_test, predik), annot=True, fmt=\".0f\", ax=ax)\n",
    "plt.xlabel(\"Predicted Label\")\n",
    "plt.ylabel(\"True Label\")\n",
    "plt.show()"
   ]
  },
  {
   "cell_type": "code",
   "execution_count": 46,
   "id": "6b3f7262-7f58-46f3-b627-aa2277177351",
   "metadata": {},
   "outputs": [
    {
     "name": "stdout",
     "output_type": "stream",
     "text": [
      "Hasil akurasi model : \n",
      "0.5\n"
     ]
    }
   ],
   "source": [
    "print('Hasil akurasi model : ')\n",
    "print(accuracy_score(y_test, predik))"
   ]
  },
  {
   "cell_type": "code",
   "execution_count": 47,
   "id": "ac62a8bc-8cf4-4187-82ca-fa53741694d1",
   "metadata": {},
   "outputs": [
    {
     "name": "stdout",
     "output_type": "stream",
     "text": [
      "              precision    recall  f1-score   support\n",
      "\n",
      "     negatif       0.69      0.26      0.37        35\n",
      "      netral       0.40      0.92      0.56        24\n",
      "     positif       0.59      0.46      0.52        41\n",
      "\n",
      "    accuracy                           0.50       100\n",
      "   macro avg       0.56      0.55      0.48       100\n",
      "weighted avg       0.58      0.50      0.48       100\n",
      "\n"
     ]
    }
   ],
   "source": [
    "from sklearn.metrics import classification_report\n",
    "print(classification_report(y_test, predik))"
   ]
  },
  {
   "cell_type": "code",
   "execution_count": null,
   "id": "48e027e6-753f-453a-a279-76a590fceeae",
   "metadata": {},
   "outputs": [],
   "source": []
  },
  {
   "cell_type": "code",
   "execution_count": null,
   "id": "25fe395c-6969-4912-be38-5bc05bda5bbc",
   "metadata": {},
   "outputs": [],
   "source": [
    "# ----------------------------------------------------- Pembatas -------------------------------------------------------------"
   ]
  },
  {
   "cell_type": "code",
   "execution_count": 105,
   "id": "b4e241f8-f6fd-41d7-8b4f-c2147ab8e5a5",
   "metadata": {},
   "outputs": [
    {
     "name": "stdout",
     "output_type": "stream",
     "text": [
      "Hasil akurasi model : \n",
      "0.72\n"
     ]
    }
   ],
   "source": [
    "# Tfidf\n",
    "\n",
    "from sklearn.feature_extraction.text import TfidfVectorizer \n",
    "\n",
    "tf_idf_vectorizer = TfidfVectorizer(use_idf=True,ngram_range=(1,2))\n",
    "final_vectorized_data = tf_idf_vectorizer.fit_transform(data_twt['tweet_bersih'])\n",
    "\n",
    "final_vectorized_data\n",
    "\n",
    "from sklearn.model_selection import train_test_split\n",
    "X_train, X_test, y_train, y_test = train_test_split(final_vectorized_data, data_twt['sentimen'],\n",
    "                                                    test_size=0.1, random_state=49)\n",
    "\n",
    "from sklearn.naive_bayes import MultinomialNB  # Naive Bayes Classifier\n",
    "\n",
    "model_naive = MultinomialNB().fit(X_train, y_train) \n",
    "predict = model_naive.predict(X_test)\n",
    "\n",
    "print('Hasil akurasi model : ')\n",
    "print(accuracy_score(y_test, predict))"
   ]
  },
  {
   "cell_type": "code",
   "execution_count": 47,
   "id": "187e140f-6f8a-456a-bb52-274e87b6cd15",
   "metadata": {},
   "outputs": [
    {
     "data": {
      "image/png": "[encoded data removed]",
      "text/plain": [
       "<Figure size 648x432 with 1 Axes>"
      ]
     },
     "metadata": {},
     "output_type": "display_data"
    }
   ],
   "source": [
    "sns.set(style=\"darkgrid\")\n",
    "plt.figure(figsize=(9,6))\n",
    "\n",
    "# hitung frekuensi dari masing-masing nilai pada kolom 'Produk'\n",
    "class_freq = data_twt['sentimen'].value_counts()\n",
    "# membuat bar plot dengan method `plt.bar()` dari matplotlib\n",
    "plt.bar(x=class_freq.index, height=class_freq.values, align='center',  edgecolor = 'black', width= 0.5)\n",
    "plt.title('Perbandingan Sentimen', size=17)\n",
    "plt.tight_layout()\n",
    "\n",
    "\n",
    "plt.xlabel('Sentimen')\n",
    "plt.ylabel('Jumlah Tweet')\n",
    "\n",
    "plt.show()\n"
   ]
  },
  {
   "cell_type": "code",
   "execution_count": 193,
   "id": "ce4ebd29-cc87-4151-8b21-71660f3731e7",
   "metadata": {},
   "outputs": [
    {
     "data": {
      "text/html": [
       "<style>#sk-container-id-1 {color: black;background-color: white;}#sk-container-id-1 pre{padding: 0;}#sk-container-id-1 div.sk-toggleable {background-color: white;}#sk-container-id-1 label.sk-toggleable__label {cursor: pointer;display: block;width: 100%;margin-bottom: 0;padding: 0.3em;box-sizing: border-box;text-align: center;}#sk-container-id-1 label.sk-toggleable__label-arrow:before {content: \"▸\";float: left;margin-right: 0.25em;color: #696969;}#sk-container-id-1 label.sk-toggleable__label-arrow:hover:before {color: black;}#sk-container-id-1 div.sk-estimator:hover label.sk-toggleable__label-arrow:before {color: black;}#sk-container-id-1 div.sk-toggleable__content {max-height: 0;max-width: 0;overflow: hidden;text-align: left;background-color: #f0f8ff;}#sk-container-id-1 div.sk-toggleable__content pre {margin: 0.2em;color: black;border-radius: 0.25em;background-color: #f0f8ff;}#sk-container-id-1 input.sk-toggleable__control:checked~div.sk-toggleable__content {max-height: 200px;max-width: 100%;overflow: auto;}#sk-container-id-1 input.sk-toggleable__control:checked~label.sk-toggleable__label-arrow:before {content: \"▾\";}#sk-container-id-1 div.sk-estimator input.sk-toggleable__control:checked~label.sk-toggleable__label {background-color: #d4ebff;}#sk-container-id-1 div.sk-label input.sk-toggleable__control:checked~label.sk-toggleable__label {background-color: #d4ebff;}#sk-container-id-1 input.sk-hidden--visually {border: 0;clip: rect(1px 1px 1px 1px);clip: rect(1px, 1px, 1px, 1px);height: 1px;margin: -1px;overflow: hidden;padding: 0;position: absolute;width: 1px;}#sk-container-id-1 div.sk-estimator {font-family: monospace;background-color: #f0f8ff;border: 1px dotted black;border-radius: 0.25em;box-sizing: border-box;margin-bottom: 0.5em;}#sk-container-id-1 div.sk-estimator:hover {background-color: #d4ebff;}#sk-container-id-1 div.sk-parallel-item::after {content: \"\";width: 100%;border-bottom: 1px solid gray;flex-grow: 1;}#sk-container-id-1 div.sk-label:hover label.sk-toggleable__label {background-color: #d4ebff;}#sk-container-id-1 div.sk-serial::before {content: \"\";position: absolute;border-left: 1px solid gray;box-sizing: border-box;top: 0;bottom: 0;left: 50%;z-index: 0;}#sk-container-id-1 div.sk-serial {display: flex;flex-direction: column;align-items: center;background-color: white;padding-right: 0.2em;padding-left: 0.2em;position: relative;}#sk-container-id-1 div.sk-item {position: relative;z-index: 1;}#sk-container-id-1 div.sk-parallel {display: flex;align-items: stretch;justify-content: center;background-color: white;position: relative;}#sk-container-id-1 div.sk-item::before, #sk-container-id-1 div.sk-parallel-item::before {content: \"\";position: absolute;border-left: 1px solid gray;box-sizing: border-box;top: 0;bottom: 0;left: 50%;z-index: -1;}#sk-container-id-1 div.sk-parallel-item {display: flex;flex-direction: column;z-index: 1;position: relative;background-color: white;}#sk-container-id-1 div.sk-parallel-item:first-child::after {align-self: flex-end;width: 50%;}#sk-container-id-1 div.sk-parallel-item:last-child::after {align-self: flex-start;width: 50%;}#sk-container-id-1 div.sk-parallel-item:only-child::after {width: 0;}#sk-container-id-1 div.sk-dashed-wrapped {border: 1px dashed gray;margin: 0 0.4em 0.5em 0.4em;box-sizing: border-box;padding-bottom: 0.4em;background-color: white;}#sk-container-id-1 div.sk-label label {font-family: monospace;font-weight: bold;display: inline-block;line-height: 1.2em;}#sk-container-id-1 div.sk-label-container {text-align: center;}#sk-container-id-1 div.sk-container {/* jupyter's `normalize.less` sets `[hidden] { display: none; }` but bootstrap.min.css set `[hidden] { display: none !important; }` so we also need the `!important` here to be able to override the default hidden behavior on the sphinx rendered scikit-learn.org. See: https://github.com/scikit-learn/scikit-learn/issues/21755 */display: inline-block !important;position: relative;}#sk-container-id-1 div.sk-text-repr-fallback {display: none;}</style><div id=\"sk-container-id-1\" class=\"sk-top-container\"><div class=\"sk-text-repr-fallback\"><pre>SVC(kernel=&#x27;linear&#x27;)</pre><b>In a Jupyter environment, please rerun this cell to show the HTML representation or trust the notebook. <br />On GitHub, the HTML representation is unable to render, please try loading this page with nbviewer.org.</b></div><div class=\"sk-container\" hidden><div class=\"sk-item\"><div class=\"sk-estimator sk-toggleable\"><input class=\"sk-toggleable__control sk-hidden--visually\" id=\"sk-estimator-id-1\" type=\"checkbox\" checked><label for=\"sk-estimator-id-1\" class=\"sk-toggleable__label sk-toggleable__label-arrow\">SVC</label><div class=\"sk-toggleable__content\"><pre>SVC(kernel=&#x27;linear&#x27;)</pre></div></div></div></div></div>"
      ],
      "text/plain": [
       "SVC(kernel='linear')"
      ]
     },
     "execution_count": 193,
     "metadata": {},
     "output_type": "execute_result"
    }
   ],
   "source": [
    "# Proses Pelatihan\n",
    "''' awalnya begini ya\n",
    "\n",
    "from sklearn import svm\n",
    "\n",
    "SVM = svm.SVC(kernel='linear')\n",
    "SVM.fit(train_a_tfidf,train_b)\n",
    "\n",
    "trus diganti jadi begini'''\n",
    "\n",
    "from sklearn.svm import SVC\n",
    "\n",
    "model = SVC(kernel='linear')\n",
    "model.fit(X_train,y_train)"
   ]
  },
  {
   "cell_type": "code",
   "execution_count": null,
   "id": "112c5eb7-b56b-4362-9f06-1b25c25a2e13",
   "metadata": {},
   "outputs": [],
   "source": []
  }
 ],
 "metadata": {
  "kernelspec": {
   "display_name": "Python 3 (ipykernel)",
   "language": "python",
   "name": "python3"
  },
  "language_info": {
   "codemirror_mode": {
    "name": "ipython",
    "version": 3
   },
   "file_extension": ".py",
   "mimetype": "text/x-python",
   "name": "python",
   "nbconvert_exporter": "python",
   "pygments_lexer": "ipython3",
   "version": "3.9.5"
  }
 },
 "nbformat": 4,
 "nbformat_minor": 5
}
