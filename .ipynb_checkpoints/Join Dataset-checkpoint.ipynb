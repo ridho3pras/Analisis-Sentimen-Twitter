{
 "cells": [
  {
   "cell_type": "code",
   "execution_count": 1,
   "metadata": {
    "id": "F8Unmz146PIq"
   },
   "outputs": [],
   "source": [
    "import pandas as pd\n",
    "import random"
   ]
  },
  {
   "cell_type": "markdown",
   "metadata": {
    "id": "AzJWs_uvPdkv"
   },
   "source": [
    "## Menggabung Dataset Yang Telah Dikumpulkan"
   ]
  },
  {
   "cell_type": "code",
   "execution_count": 5,
   "metadata": {
    "id": "0b922C7J6YSn"
   },
   "outputs": [],
   "source": [
    "data1 = pd.read_csv('dataset/dataset 2022/sekolah offline-29mei2022.csv')\n",
    "data2 = pd.read_csv('dataset/dataset 2022/sekolah tatap muka-30mei2022.csv')\n",
    "data3 = pd.read_csv('dataset/dataset 2022/sekolah offline-6juni2022.csv')\n",
    "data4 = pd.read_csv('dataset/dataset 2022/sekolah tatap muka-6juni2022.csv')\n",
    "data5 = pd.read_csv('dataset/dataset 2022/sekolah offline-13juni2022.csv')\n",
    "data6 = pd.read_csv('dataset/dataset 2022/sekolah tatap muka-13juni2022.csv')"
   ]
  },
  {
   "cell_type": "code",
   "execution_count": 6,
   "metadata": {
    "id": "o_ZRof4B6b_3"
   },
   "outputs": [],
   "source": [
    "frames = [data1, data2, data3, data4, data5, data6] \n",
    "result = pd.concat(frames).drop_duplicates().reset_index(drop=True)"
   ]
  },
  {
   "cell_type": "code",
   "execution_count": 7,
   "metadata": {
    "id": "y4XZtY6Y6d__"
   },
   "outputs": [],
   "source": [
    "result.to_csv(r'dataset/Dataset-lengkap.csv', index=False)"
   ]
  },
  {
   "cell_type": "code",
   "execution_count": 8,
   "metadata": {
    "id": "dr1WnHAO8zV3"
   },
   "outputs": [],
   "source": [
    "dataLengkap = pd.read_csv('dataset/Dataset-lengkap.csv')"
   ]
  },
  {
   "cell_type": "code",
   "execution_count": 9,
   "metadata": {
    "colab": {
     "base_uri": "https://localhost:8080/",
     "height": 424
    },
    "id": "bwjtfUht984f",
    "outputId": "733e82ad-12fc-40c6-cd93-c3d253bda656"
   },
   "outputs": [
    {
     "data": {
      "text/html": [
       "<div>\n",
       "<style scoped>\n",
       "    .dataframe tbody tr th:only-of-type {\n",
       "        vertical-align: middle;\n",
       "    }\n",
       "\n",
       "    .dataframe tbody tr th {\n",
       "        vertical-align: top;\n",
       "    }\n",
       "\n",
       "    .dataframe thead th {\n",
       "        text-align: right;\n",
       "    }\n",
       "</style>\n",
       "<table border=\"1\" class=\"dataframe\">\n",
       "  <thead>\n",
       "    <tr style=\"text-align: right;\">\n",
       "      <th></th>\n",
       "      <th>username</th>\n",
       "      <th>tweetcreatedts</th>\n",
       "      <th>tweet</th>\n",
       "    </tr>\n",
       "  </thead>\n",
       "  <tbody>\n",
       "    <tr>\n",
       "      <th>0</th>\n",
       "      <td>cemilih</td>\n",
       "      <td>2022-05-28 19:38:20</td>\n",
       "      <td>kalo udah mulai normal lagi, udah pada sekolah...</td>\n",
       "    </tr>\n",
       "    <tr>\n",
       "      <th>1</th>\n",
       "      <td>JUNGJIES</td>\n",
       "      <td>2022-05-28 17:46:37</td>\n",
       "      <td>pdhl brg2 jg glama pas msh offline, tau2 sekol...</td>\n",
       "    </tr>\n",
       "    <tr>\n",
       "      <th>2</th>\n",
       "      <td>collegemenfess</td>\n",
       "      <td>2022-05-28 16:51:24</td>\n",
       "      <td>[cm] kalo sidang offline berkas² pas penelitia...</td>\n",
       "    </tr>\n",
       "    <tr>\n",
       "      <th>3</th>\n",
       "      <td>lykygsgf</td>\n",
       "      <td>2022-05-28 16:19:47</td>\n",
       "      <td>@subschfess campur². ada senengnya, cnth kl ke...</td>\n",
       "    </tr>\n",
       "    <tr>\n",
       "      <th>4</th>\n",
       "      <td>achteezers</td>\n",
       "      <td>2022-05-28 16:06:04</td>\n",
       "      <td>gue dulu pacaran uwunya masih era offline nder...</td>\n",
       "    </tr>\n",
       "    <tr>\n",
       "      <th>...</th>\n",
       "      <td>...</td>\n",
       "      <td>...</td>\n",
       "      <td>...</td>\n",
       "    </tr>\n",
       "    <tr>\n",
       "      <th>1043</th>\n",
       "      <td>fadhilahrzkn</td>\n",
       "      <td>2022-06-07 09:51:59</td>\n",
       "      <td>walopun bukan anak sekolaan, gua turut merasak...</td>\n",
       "    </tr>\n",
       "    <tr>\n",
       "      <th>1044</th>\n",
       "      <td>Nieza_Styles</td>\n",
       "      <td>2022-06-07 01:30:23</td>\n",
       "      <td>Tapi mas udah kayak Sekolah aja sekarang tatap...</td>\n",
       "    </tr>\n",
       "    <tr>\n",
       "      <th>1045</th>\n",
       "      <td>jagapatidotcom</td>\n",
       "      <td>2022-06-06 12:30:11</td>\n",
       "      <td>Tapi, emang udah siap hidup normal? 🤔\\n\\nKemba...</td>\n",
       "    </tr>\n",
       "    <tr>\n",
       "      <th>1046</th>\n",
       "      <td>Crisa_na</td>\n",
       "      <td>2022-06-06 08:21:33</td>\n",
       "      <td>Puan bersyukur Indonesia mulai memasuki fase e...</td>\n",
       "    </tr>\n",
       "    <tr>\n",
       "      <th>1047</th>\n",
       "      <td>gogogentur</td>\n",
       "      <td>2022-06-06 08:17:09</td>\n",
       "      <td>@YogiManaLagi11 @andreayudias @tvindonesiawkwk...</td>\n",
       "    </tr>\n",
       "  </tbody>\n",
       "</table>\n",
       "<p>1048 rows × 3 columns</p>\n",
       "</div>"
      ],
      "text/plain": [
       "            username       tweetcreatedts  \\\n",
       "0            cemilih  2022-05-28 19:38:20   \n",
       "1           JUNGJIES  2022-05-28 17:46:37   \n",
       "2     collegemenfess  2022-05-28 16:51:24   \n",
       "3           lykygsgf  2022-05-28 16:19:47   \n",
       "4         achteezers  2022-05-28 16:06:04   \n",
       "...              ...                  ...   \n",
       "1043    fadhilahrzkn  2022-06-07 09:51:59   \n",
       "1044    Nieza_Styles  2022-06-07 01:30:23   \n",
       "1045  jagapatidotcom  2022-06-06 12:30:11   \n",
       "1046        Crisa_na  2022-06-06 08:21:33   \n",
       "1047      gogogentur  2022-06-06 08:17:09   \n",
       "\n",
       "                                                  tweet  \n",
       "0     kalo udah mulai normal lagi, udah pada sekolah...  \n",
       "1     pdhl brg2 jg glama pas msh offline, tau2 sekol...  \n",
       "2     [cm] kalo sidang offline berkas² pas penelitia...  \n",
       "3     @subschfess campur². ada senengnya, cnth kl ke...  \n",
       "4     gue dulu pacaran uwunya masih era offline nder...  \n",
       "...                                                 ...  \n",
       "1043  walopun bukan anak sekolaan, gua turut merasak...  \n",
       "1044  Tapi mas udah kayak Sekolah aja sekarang tatap...  \n",
       "1045  Tapi, emang udah siap hidup normal? 🤔\\n\\nKemba...  \n",
       "1046  Puan bersyukur Indonesia mulai memasuki fase e...  \n",
       "1047  @YogiManaLagi11 @andreayudias @tvindonesiawkwk...  \n",
       "\n",
       "[1048 rows x 3 columns]"
      ]
     },
     "execution_count": 9,
     "metadata": {},
     "output_type": "execute_result"
    }
   ],
   "source": [
    "dataLengkap"
   ]
  },
  {
   "cell_type": "markdown",
   "metadata": {
    "id": "Cq0preH9PT6x"
   },
   "source": [
    "## Acak data pada dataset"
   ]
  },
  {
   "cell_type": "code",
   "execution_count": 22,
   "metadata": {
    "id": "3tjlnVjE8mbB"
   },
   "outputs": [],
   "source": [
    "df = pd.read_csv('dataset/dataset-preprocessing1.csv') # avoid header=None. \n",
    "shuffled_df = df.sample(frac=1)\n",
    "shuffled_df.to_csv('dataset/Data-2000acak.csv', index=False)"
   ]
  },
  {
   "cell_type": "code",
   "execution_count": 23,
   "metadata": {
    "id": "k-s6ScNnPsLC"
   },
   "outputs": [],
   "source": [
    "DataAcak = pd.read_csv('dataset/Data-2000acak.csv')"
   ]
  },
  {
   "cell_type": "code",
   "execution_count": 24,
   "metadata": {
    "colab": {
     "base_uri": "https://localhost:8080/",
     "height": 424
    },
    "id": "MgQDpmpQPqG4",
    "outputId": "eb1581a8-0ab9-49d2-bf83-b6fbdced289d"
   },
   "outputs": [
    {
     "data": {
      "text/html": [
       "<div>\n",
       "<style scoped>\n",
       "    .dataframe tbody tr th:only-of-type {\n",
       "        vertical-align: middle;\n",
       "    }\n",
       "\n",
       "    .dataframe tbody tr th {\n",
       "        vertical-align: top;\n",
       "    }\n",
       "\n",
       "    .dataframe thead th {\n",
       "        text-align: right;\n",
       "    }\n",
       "</style>\n",
       "<table border=\"1\" class=\"dataframe\">\n",
       "  <thead>\n",
       "    <tr style=\"text-align: right;\">\n",
       "      <th></th>\n",
       "      <th>tweet_bersih</th>\n",
       "      <th>label_sentimen</th>\n",
       "    </tr>\n",
       "  </thead>\n",
       "  <tbody>\n",
       "    <tr>\n",
       "      <th>0</th>\n",
       "      <td>sekolahkerja via daring enak begadang bangun s...</td>\n",
       "      <td>-1</td>\n",
       "    </tr>\n",
       "    <tr>\n",
       "      <th>1</th>\n",
       "      <td>gubernur jawa timur sekolah temu tatap muka pt...</td>\n",
       "      <td>1</td>\n",
       "    </tr>\n",
       "    <tr>\n",
       "      <th>2</th>\n",
       "      <td>syukur indonesia masuk fase endemi covid kondi...</td>\n",
       "      <td>1</td>\n",
       "    </tr>\n",
       "    <tr>\n",
       "      <th>3</th>\n",
       "      <td>sekolah offline kak pulang jam les jam wahwah</td>\n",
       "      <td>-1</td>\n",
       "    </tr>\n",
       "    <tr>\n",
       "      <th>4</th>\n",
       "      <td>eh sekolah offline jam</td>\n",
       "      <td>0</td>\n",
       "    </tr>\n",
       "    <tr>\n",
       "      <th>...</th>\n",
       "      <td>...</td>\n",
       "      <td>...</td>\n",
       "    </tr>\n",
       "    <tr>\n",
       "      <th>2005</th>\n",
       "      <td>lxyc sekolah daring offline by the way sarap</td>\n",
       "      <td>0</td>\n",
       "    </tr>\n",
       "    <tr>\n",
       "      <th>2006</th>\n",
       "      <td>masuk kuliah offline alam masuk sekolah menit ...</td>\n",
       "      <td>0</td>\n",
       "    </tr>\n",
       "    <tr>\n",
       "      <th>2007</th>\n",
       "      <td>min wishlist bgadang kantong mata hitam sekola...</td>\n",
       "      <td>0</td>\n",
       "    </tr>\n",
       "    <tr>\n",
       "      <th>2008</th>\n",
       "      <td>sekolah teman saya drad wisuda offline</td>\n",
       "      <td>0</td>\n",
       "    </tr>\n",
       "    <tr>\n",
       "      <th>2009</th>\n",
       "      <td>sekolahoffline sekolah offline</td>\n",
       "      <td>1</td>\n",
       "    </tr>\n",
       "  </tbody>\n",
       "</table>\n",
       "<p>2010 rows × 2 columns</p>\n",
       "</div>"
      ],
      "text/plain": [
       "                                           tweet_bersih  label_sentimen\n",
       "0     sekolahkerja via daring enak begadang bangun s...              -1\n",
       "1     gubernur jawa timur sekolah temu tatap muka pt...               1\n",
       "2     syukur indonesia masuk fase endemi covid kondi...               1\n",
       "3         sekolah offline kak pulang jam les jam wahwah              -1\n",
       "4                                eh sekolah offline jam               0\n",
       "...                                                 ...             ...\n",
       "2005       lxyc sekolah daring offline by the way sarap               0\n",
       "2006  masuk kuliah offline alam masuk sekolah menit ...               0\n",
       "2007  min wishlist bgadang kantong mata hitam sekola...               0\n",
       "2008             sekolah teman saya drad wisuda offline               0\n",
       "2009                     sekolahoffline sekolah offline               1\n",
       "\n",
       "[2010 rows x 2 columns]"
      ]
     },
     "execution_count": 24,
     "metadata": {},
     "output_type": "execute_result"
    }
   ],
   "source": [
    "DataAcak"
   ]
  },
  {
   "cell_type": "code",
   "execution_count": 8,
   "metadata": {},
   "outputs": [],
   "source": [
    "data1 = pd.read_csv('dataset/dataset 2022/sekolah offline-29mei2022.csv')\n",
    "data3 = pd.read_csv('dataset/dataset 2022/sekolah offline-6juni2022.csv')\n",
    "data5 = pd.read_csv('dataset/dataset 2022/sekolah offline-13juni2022.csv')"
   ]
  },
  {
   "cell_type": "code",
   "execution_count": 9,
   "metadata": {},
   "outputs": [],
   "source": [
    "frames = [data1, data2] \n",
    "result = pd.concat(frames).drop_duplicates().reset_index(drop=True)"
   ]
  },
  {
   "cell_type": "code",
   "execution_count": 10,
   "metadata": {},
   "outputs": [],
   "source": [
    "result.to_csv(r'dataset/Dataset-Nolabel.csv', index=False)"
   ]
  },
  {
   "cell_type": "code",
   "execution_count": 11,
   "metadata": {},
   "outputs": [],
   "source": [
    "dataLengkap = pd.read_csv('dataset/Dataset-Nolabel.csv')"
   ]
  },
  {
   "cell_type": "code",
   "execution_count": 12,
   "metadata": {},
   "outputs": [
    {
     "data": {
      "text/html": [
       "<div>\n",
       "<style scoped>\n",
       "    .dataframe tbody tr th:only-of-type {\n",
       "        vertical-align: middle;\n",
       "    }\n",
       "\n",
       "    .dataframe tbody tr th {\n",
       "        vertical-align: top;\n",
       "    }\n",
       "\n",
       "    .dataframe thead th {\n",
       "        text-align: right;\n",
       "    }\n",
       "</style>\n",
       "<table border=\"1\" class=\"dataframe\">\n",
       "  <thead>\n",
       "    <tr style=\"text-align: right;\">\n",
       "      <th></th>\n",
       "      <th>username</th>\n",
       "      <th>tweetcreatedts</th>\n",
       "      <th>tweet</th>\n",
       "    </tr>\n",
       "  </thead>\n",
       "  <tbody>\n",
       "    <tr>\n",
       "      <th>0</th>\n",
       "      <td>cemilih</td>\n",
       "      <td>2022-05-28 19:38:20</td>\n",
       "      <td>kalo udah mulai normal lagi, udah pada sekolah...</td>\n",
       "    </tr>\n",
       "    <tr>\n",
       "      <th>1</th>\n",
       "      <td>JUNGJIES</td>\n",
       "      <td>2022-05-28 17:46:37</td>\n",
       "      <td>pdhl brg2 jg glama pas msh offline, tau2 sekol...</td>\n",
       "    </tr>\n",
       "    <tr>\n",
       "      <th>2</th>\n",
       "      <td>collegemenfess</td>\n",
       "      <td>2022-05-28 16:51:24</td>\n",
       "      <td>[cm] kalo sidang offline berkas² pas penelitia...</td>\n",
       "    </tr>\n",
       "    <tr>\n",
       "      <th>3</th>\n",
       "      <td>lykygsgf</td>\n",
       "      <td>2022-05-28 16:19:47</td>\n",
       "      <td>@subschfess campur². ada senengnya, cnth kl ke...</td>\n",
       "    </tr>\n",
       "    <tr>\n",
       "      <th>4</th>\n",
       "      <td>achteezers</td>\n",
       "      <td>2022-05-28 16:06:04</td>\n",
       "      <td>gue dulu pacaran uwunya masih era offline nder...</td>\n",
       "    </tr>\n",
       "    <tr>\n",
       "      <th>...</th>\n",
       "      <td>...</td>\n",
       "      <td>...</td>\n",
       "      <td>...</td>\n",
       "    </tr>\n",
       "    <tr>\n",
       "      <th>556</th>\n",
       "      <td>frontmudarev</td>\n",
       "      <td>2022-06-06 03:39:20</td>\n",
       "      <td>Dengan demikian FMR Surabaya mengajak kawan se...</td>\n",
       "    </tr>\n",
       "    <tr>\n",
       "      <th>557</th>\n",
       "      <td>detik_jabar</td>\n",
       "      <td>2022-06-06 03:36:58</td>\n",
       "      <td>PPDB SMA, SMK dan SLB di JabarTahun 2022 dimul...</td>\n",
       "    </tr>\n",
       "    <tr>\n",
       "      <th>558</th>\n",
       "      <td>neoensa</td>\n",
       "      <td>2022-06-06 01:42:05</td>\n",
       "      <td>@ningnyz_ semangattt, lgi sekolah offline mau ...</td>\n",
       "    </tr>\n",
       "    <tr>\n",
       "      <th>559</th>\n",
       "      <td>berrisikk</td>\n",
       "      <td>2022-06-06 01:17:31</td>\n",
       "      <td>sekolah lain enak banget anjir ujiannya offlin...</td>\n",
       "    </tr>\n",
       "    <tr>\n",
       "      <th>560</th>\n",
       "      <td>convomf</td>\n",
       "      <td>2022-06-06 01:05:06</td>\n",
       "      <td>💙 Kalian pernah gak si sekolah/kuliah offline ...</td>\n",
       "    </tr>\n",
       "  </tbody>\n",
       "</table>\n",
       "<p>561 rows × 3 columns</p>\n",
       "</div>"
      ],
      "text/plain": [
       "           username       tweetcreatedts  \\\n",
       "0           cemilih  2022-05-28 19:38:20   \n",
       "1          JUNGJIES  2022-05-28 17:46:37   \n",
       "2    collegemenfess  2022-05-28 16:51:24   \n",
       "3          lykygsgf  2022-05-28 16:19:47   \n",
       "4        achteezers  2022-05-28 16:06:04   \n",
       "..              ...                  ...   \n",
       "556    frontmudarev  2022-06-06 03:39:20   \n",
       "557     detik_jabar  2022-06-06 03:36:58   \n",
       "558         neoensa  2022-06-06 01:42:05   \n",
       "559       berrisikk  2022-06-06 01:17:31   \n",
       "560         convomf  2022-06-06 01:05:06   \n",
       "\n",
       "                                                 tweet  \n",
       "0    kalo udah mulai normal lagi, udah pada sekolah...  \n",
       "1    pdhl brg2 jg glama pas msh offline, tau2 sekol...  \n",
       "2    [cm] kalo sidang offline berkas² pas penelitia...  \n",
       "3    @subschfess campur². ada senengnya, cnth kl ke...  \n",
       "4    gue dulu pacaran uwunya masih era offline nder...  \n",
       "..                                                 ...  \n",
       "556  Dengan demikian FMR Surabaya mengajak kawan se...  \n",
       "557  PPDB SMA, SMK dan SLB di JabarTahun 2022 dimul...  \n",
       "558  @ningnyz_ semangattt, lgi sekolah offline mau ...  \n",
       "559  sekolah lain enak banget anjir ujiannya offlin...  \n",
       "560  💙 Kalian pernah gak si sekolah/kuliah offline ...  \n",
       "\n",
       "[561 rows x 3 columns]"
      ]
     },
     "execution_count": 12,
     "metadata": {},
     "output_type": "execute_result"
    }
   ],
   "source": [
    "dataLengkap"
   ]
  },
  {
   "cell_type": "code",
   "execution_count": null,
   "metadata": {},
   "outputs": [],
   "source": []
  }
 ],
 "metadata": {
  "colab": {
   "name": "Join Dataset.ipynb",
   "provenance": []
  },
  "kernelspec": {
   "display_name": "Python 3 (ipykernel)",
   "language": "python",
   "name": "python3"
  },
  "language_info": {
   "codemirror_mode": {
    "name": "ipython",
    "version": 3
   },
   "file_extension": ".py",
   "mimetype": "text/x-python",
   "name": "python",
   "nbconvert_exporter": "python",
   "pygments_lexer": "ipython3",
   "version": "3.9.5"
  }
 },
 "nbformat": 4,
 "nbformat_minor": 4
}
