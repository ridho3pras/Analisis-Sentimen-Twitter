{
 "cells": [
  {
   "cell_type": "markdown",
   "id": "b6f4cf2c-8f51-42ab-93c3-592c87686232",
   "metadata": {},
   "source": [
    "# Crawling Data\n",
    "\n",
    "Pada tahap ini dilakukan penggumpulan data dari tweet pengguna Twitter menggunakan API\n",
    "\n",
    "Proses crawling dilakukan menggunakan library tweepy"
   ]
  },
  {
   "cell_type": "code",
   "execution_count": 2,
   "id": "a3a78f88-85bd-46d3-9c9a-7bb43aab32d1",
   "metadata": {},
   "outputs": [],
   "source": [
    "# import library\n",
    "import tweepy\n",
    "import csv\n",
    "import string\n",
    "import pandas as pd"
   ]
  },
  {
   "cell_type": "code",
   "execution_count": 2,
   "id": "1611f4bd-e23b-490a-a9f6-da239be354bd",
   "metadata": {},
   "outputs": [],
   "source": [
    "#autentikasi\n",
    "consumer_key = \"GKtBQUKG9P7gPb629k4VTXYLR\"\n",
    "consumer_secret = \"sIy9UnygHFNNm10JJ39Nc63UNM6VFG4lfZaRVpmF9nguK031LW\"\n",
    "access_token = \"1191685350994767872-CnsLMvZxxDqdOMdSwRBx7LPvoG7zKl\"\n",
    "access_token_secret = \"fblIxURhznuMKB8d9cIPHLcHqBEZZog3fNG4FDnjIzDk0\"\n",
    "\n",
    "auth = tweepy.OAuthHandler(consumer_key, consumer_secret)\n",
    "auth.set_access_token(access_token, access_token_secret)\n",
    "api = tweepy.API(auth)"
   ]
  },
  {
   "cell_type": "code",
   "execution_count": 3,
   "id": "97158933-aa6d-4d88-a606-49af6d487f5e",
   "metadata": {},
   "outputs": [],
   "source": [
    "#tahap crawling data\n",
    "def scraptweets(search_words, date_since, date_until):\n",
    "\n",
    "    db_tweets = pd.DataFrame(columns=['username', 'tweetcreatedts', 'tweet'])\n",
    "\n",
    "    tweets = tweepy.Cursor(\n",
    "                    api.search_tweets, q=search_words, lang=\"id\", \n",
    "                    since=date_since, until=date_until, tweet_mode='extended').items(1000)\n",
    "\n",
    "    tweet_list = [tweet for tweet in tweets]\n",
    "\n",
    "    for tweet in tweet_list:\n",
    "        username = tweet.user.screen_name\n",
    "        tweetcreatedts = tweet.created_at\n",
    "\n",
    "        try:\n",
    "            tweet = tweet.retweeted_status.full_text\n",
    "        except AttributeError:\n",
    "            tweet = tweet.full_text\n",
    "\n",
    "        ith_tweet = [username, tweetcreatedts, tweet]\n",
    "\n",
    "        db_tweets.loc[len(db_tweets)] = ith_tweet\n",
    "    \n",
    "    print('Proses Crawling Selesai, Total Data Sebanyak', len(db_tweets))\n",
    "    filename = 'dataset/dataset-crawling.csv'\n",
    "    db_tweets.to_csv(filename, index=False)"
   ]
  },
  {
   "cell_type": "code",
   "execution_count": 4,
   "id": "977af60b-bba4-45d4-8d56-0c04c680b667",
   "metadata": {},
   "outputs": [
    {
     "name": "stderr",
     "output_type": "stream",
     "text": [
      "Unexpected parameter: since\n",
      "Unexpected parameter: since\n",
      "Unexpected parameter: since\n",
      "Unexpected parameter: since\n",
      "Unexpected parameter: since\n",
      "Unexpected parameter: since\n",
      "Unexpected parameter: since\n",
      "Unexpected parameter: since\n",
      "Unexpected parameter: since\n",
      "Unexpected parameter: since\n",
      "Unexpected parameter: since\n",
      "Unexpected parameter: since\n",
      "Unexpected parameter: since\n",
      "Unexpected parameter: since\n",
      "Unexpected parameter: since\n",
      "Unexpected parameter: since\n",
      "Unexpected parameter: since\n",
      "Unexpected parameter: since\n"
     ]
    },
    {
     "name": "stdout",
     "output_type": "stream",
     "text": [
      "Proses Crawling Selesai, Total Data Sebanyak 231\n"
     ]
    }
   ],
   "source": [
    "# Masukkan kata kunci yang dicari dan rentang waktu \n",
    "\n",
    "search_words = \"Sekolah offline -filter:retweets\"\n",
    "date_since = \"2022-06-15\"\n",
    "date_until = \"2022-06-22\"\n",
    "\n",
    "scraptweets(search_words, date_since, date_until)"
   ]
  },
  {
   "cell_type": "code",
   "execution_count": 3,
   "id": "6d6f8dbc-a85a-49f7-a8a3-ac309e8ca55f",
   "metadata": {},
   "outputs": [],
   "source": [
    "#menyimpan data yang telah dikumpulkan ke dalam lokal storage\n",
    "data_twt = pd.read_csv(\"dataset/dataset-crawling.csv\")"
   ]
  },
  {
   "cell_type": "code",
   "execution_count": 4,
   "id": "15bf99e0-ba6d-4913-aa28-31fd4f820748",
   "metadata": {},
   "outputs": [
    {
     "data": {
      "text/html": [
       "<div>\n",
       "<style scoped>\n",
       "    .dataframe tbody tr th:only-of-type {\n",
       "        vertical-align: middle;\n",
       "    }\n",
       "\n",
       "    .dataframe tbody tr th {\n",
       "        vertical-align: top;\n",
       "    }\n",
       "\n",
       "    .dataframe thead th {\n",
       "        text-align: right;\n",
       "    }\n",
       "</style>\n",
       "<table border=\"1\" class=\"dataframe\">\n",
       "  <thead>\n",
       "    <tr style=\"text-align: right;\">\n",
       "      <th></th>\n",
       "      <th>username</th>\n",
       "      <th>tweetcreatedts</th>\n",
       "      <th>tweet</th>\n",
       "    </tr>\n",
       "  </thead>\n",
       "  <tbody>\n",
       "    <tr>\n",
       "      <th>0</th>\n",
       "      <td>taphodit</td>\n",
       "      <td>2021-10-26 23:55:21</td>\n",
       "      <td>ASTAGAAAA BARU INGET SEKARANG SEKOLAH OFFLINE</td>\n",
       "    </tr>\n",
       "    <tr>\n",
       "      <th>1</th>\n",
       "      <td>L94KJISS</td>\n",
       "      <td>2021-10-26 23:52:56</td>\n",
       "      <td>Yg udh sekolah offline, lama lama bosan gsi se...</td>\n",
       "    </tr>\n",
       "    <tr>\n",
       "      <th>2</th>\n",
       "      <td>jjnanney</td>\n",
       "      <td>2021-10-26 23:45:18</td>\n",
       "      <td>@jinhwanchy Wah udah sekolah offline? Semangat...</td>\n",
       "    </tr>\n",
       "    <tr>\n",
       "      <th>3</th>\n",
       "      <td>Vinaa32383695</td>\n",
       "      <td>2021-10-26 23:41:07</td>\n",
       "      <td>@Fajri_UN1TY Haii juga, yuk yg sekolah offline...</td>\n",
       "    </tr>\n",
       "    <tr>\n",
       "      <th>4</th>\n",
       "      <td>schfess</td>\n",
       "      <td>2021-10-26 23:39:56</td>\n",
       "      <td>Sch! Hai gais hari ini sender PTM untuk yg per...</td>\n",
       "    </tr>\n",
       "    <tr>\n",
       "      <th>...</th>\n",
       "      <td>...</td>\n",
       "      <td>...</td>\n",
       "      <td>...</td>\n",
       "    </tr>\n",
       "    <tr>\n",
       "      <th>995</th>\n",
       "      <td>enhypenaddicted</td>\n",
       "      <td>2021-10-23 01:42:25</td>\n",
       "      <td>Ya Tuhan, besok sekolah agama offline aku gama...</td>\n",
       "    </tr>\n",
       "    <tr>\n",
       "      <th>996</th>\n",
       "      <td>shnsukei</td>\n",
       "      <td>2021-10-23 01:39:47</td>\n",
       "      <td>@jegiannnnn__ bukan 0 sih, tapi udh mau zona i...</td>\n",
       "    </tr>\n",
       "    <tr>\n",
       "      <th>997</th>\n",
       "      <td>Drllny</td>\n",
       "      <td>2021-10-23 01:29:14</td>\n",
       "      <td>@CHOl_SAN_ @prkdlx Nanti pulang sekolah ya, ak...</td>\n",
       "    </tr>\n",
       "    <tr>\n",
       "      <th>998</th>\n",
       "      <td>CHOl_TAEHUN</td>\n",
       "      <td>2021-10-23 01:27:46</td>\n",
       "      <td>Males bgt sekolah offline😭😭</td>\n",
       "    </tr>\n",
       "    <tr>\n",
       "      <th>999</th>\n",
       "      <td>jyonjaey</td>\n",
       "      <td>2021-10-23 01:22:45</td>\n",
       "      <td>@peachwzrl_ Bener banget :(. Aku dulu waktu ma...</td>\n",
       "    </tr>\n",
       "  </tbody>\n",
       "</table>\n",
       "<p>1000 rows × 3 columns</p>\n",
       "</div>"
      ],
      "text/plain": [
       "            username       tweetcreatedts  \\\n",
       "0           taphodit  2021-10-26 23:55:21   \n",
       "1           L94KJISS  2021-10-26 23:52:56   \n",
       "2           jjnanney  2021-10-26 23:45:18   \n",
       "3      Vinaa32383695  2021-10-26 23:41:07   \n",
       "4            schfess  2021-10-26 23:39:56   \n",
       "..               ...                  ...   \n",
       "995  enhypenaddicted  2021-10-23 01:42:25   \n",
       "996         shnsukei  2021-10-23 01:39:47   \n",
       "997           Drllny  2021-10-23 01:29:14   \n",
       "998      CHOl_TAEHUN  2021-10-23 01:27:46   \n",
       "999         jyonjaey  2021-10-23 01:22:45   \n",
       "\n",
       "                                                 tweet  \n",
       "0        ASTAGAAAA BARU INGET SEKARANG SEKOLAH OFFLINE  \n",
       "1    Yg udh sekolah offline, lama lama bosan gsi se...  \n",
       "2    @jinhwanchy Wah udah sekolah offline? Semangat...  \n",
       "3    @Fajri_UN1TY Haii juga, yuk yg sekolah offline...  \n",
       "4    Sch! Hai gais hari ini sender PTM untuk yg per...  \n",
       "..                                                 ...  \n",
       "995  Ya Tuhan, besok sekolah agama offline aku gama...  \n",
       "996  @jegiannnnn__ bukan 0 sih, tapi udh mau zona i...  \n",
       "997  @CHOl_SAN_ @prkdlx Nanti pulang sekolah ya, ak...  \n",
       "998                        Males bgt sekolah offline😭😭  \n",
       "999  @peachwzrl_ Bener banget :(. Aku dulu waktu ma...  \n",
       "\n",
       "[1000 rows x 3 columns]"
      ]
     },
     "execution_count": 4,
     "metadata": {},
     "output_type": "execute_result"
    }
   ],
   "source": [
    "data_twt"
   ]
  },
  {
   "cell_type": "code",
   "execution_count": null,
   "id": "d225f67d-d1d7-41e4-a108-0551fb47e8c0",
   "metadata": {},
   "outputs": [],
   "source": []
  }
 ],
 "metadata": {
  "kernelspec": {
   "display_name": "Python 3 (ipykernel)",
   "language": "python",
   "name": "python3"
  },
  "language_info": {
   "codemirror_mode": {
    "name": "ipython",
    "version": 3
   },
   "file_extension": ".py",
   "mimetype": "text/x-python",
   "name": "python",
   "nbconvert_exporter": "python",
   "pygments_lexer": "ipython3",
   "version": "3.9.5"
  }
 },
 "nbformat": 4,
 "nbformat_minor": 5
}
